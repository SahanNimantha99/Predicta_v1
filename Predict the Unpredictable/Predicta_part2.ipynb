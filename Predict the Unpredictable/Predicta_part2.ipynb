{
  "nbformat": 4,
  "nbformat_minor": 0,
  "metadata": {
    "colab": {
      "provenance": []
    },
    "kernelspec": {
      "name": "python3",
      "display_name": "Python 3"
    },
    "language_info": {
      "name": "python"
    }
  },
  "cells": [
    {
      "cell_type": "markdown",
      "source": [
        "Loading and Exploring Data:"
      ],
      "metadata": {
        "id": "VsoWctRpO__e"
      }
    },
    {
      "cell_type": "code",
      "execution_count": 9,
      "metadata": {
        "colab": {
          "base_uri": "https://localhost:8080/"
        },
        "id": "_WBIWYRUO7_U",
        "outputId": "45fc0041-cf33-4e81-dd4e-c43982628821"
      },
      "outputs": [
        {
          "output_type": "stream",
          "name": "stdout",
          "text": [
            "<class 'pandas.core.frame.DataFrame'>\n",
            "RangeIndex: 2893 entries, 0 to 2892\n",
            "Data columns (total 17 columns):\n",
            " #   Column                    Non-Null Count  Dtype  \n",
            "---  ------                    --------------  -----  \n",
            " 0   day_id                    2893 non-null   object \n",
            " 1   city_id                   2893 non-null   object \n",
            " 2   temperature_celsius       2893 non-null   float64\n",
            " 3   condition_text            479 non-null    object \n",
            " 4   wind_kph                  2893 non-null   float64\n",
            " 5   wind_degree               2893 non-null   int64  \n",
            " 6   pressure_mb               2893 non-null   float64\n",
            " 7   precip_mm                 2893 non-null   float64\n",
            " 8   humidity                  2893 non-null   int64  \n",
            " 9   cloud                     2893 non-null   int64  \n",
            " 10  feels_like_celsius        2893 non-null   float64\n",
            " 11  visibility_km             2893 non-null   float64\n",
            " 12  uv_index                  2893 non-null   float64\n",
            " 13  gust_kph                  2893 non-null   float64\n",
            " 14  air_quality_us-epa-index  2893 non-null   int64  \n",
            " 15  sunrise                   2893 non-null   object \n",
            " 16  sunset                    2893 non-null   object \n",
            "dtypes: float64(8), int64(4), object(5)\n",
            "memory usage: 384.4+ KB\n",
            "None\n",
            "       temperature_celsius     wind_kph  wind_degree  pressure_mb  \\\n",
            "count          2893.000000  2893.000000  2893.000000  2893.000000   \n",
            "mean             22.024577    10.304805   158.994469  1013.745938   \n",
            "std               6.615540     7.264472   103.021634     6.172045   \n",
            "min              -2.000000     3.600000     1.000000   982.000000   \n",
            "25%              17.000000     5.000000    70.000000  1010.000000   \n",
            "50%              22.000000     8.300000   150.000000  1014.000000   \n",
            "75%              27.000000    13.000000   236.000000  1018.000000   \n",
            "max              45.000000    74.200000   360.000000  1036.000000   \n",
            "\n",
            "         precip_mm     humidity        cloud  feels_like_celsius  \\\n",
            "count  2893.000000  2893.000000  2893.000000         2893.000000   \n",
            "mean      0.165299    74.773591    32.073280           23.725752   \n",
            "std       0.937061    19.335724    32.584184            8.877424   \n",
            "min       0.000000     4.000000     0.000000           -4.300000   \n",
            "25%       0.000000    66.000000     0.000000           17.000000   \n",
            "50%       0.000000    78.000000    25.000000           24.500000   \n",
            "75%       0.000000    89.000000    68.000000           30.000000   \n",
            "max      28.700000   100.000000   100.000000           73.600000   \n",
            "\n",
            "       visibility_km     uv_index     gust_kph  air_quality_us-epa-index  \n",
            "count    2893.000000  2893.000000  2893.000000               2893.000000  \n",
            "mean        9.745524     2.216730    16.930522                  1.599032  \n",
            "std         2.489918     2.238163    10.541449                  1.062513  \n",
            "min         0.000000     1.000000     0.700000                  1.000000  \n",
            "25%        10.000000     1.000000     9.000000                  1.000000  \n",
            "50%        10.000000     1.000000    15.100000                  1.000000  \n",
            "75%        10.000000     1.000000    22.300000                  2.000000  \n",
            "max        32.000000    10.000000    75.600000                  6.000000  \n",
            "day_id                         0\n",
            "city_id                        0\n",
            "temperature_celsius            0\n",
            "condition_text              2414\n",
            "wind_kph                       0\n",
            "wind_degree                    0\n",
            "pressure_mb                    0\n",
            "precip_mm                      0\n",
            "humidity                       0\n",
            "cloud                          0\n",
            "feels_like_celsius             0\n",
            "visibility_km                  0\n",
            "uv_index                       0\n",
            "gust_kph                       0\n",
            "air_quality_us-epa-index       0\n",
            "sunrise                        0\n",
            "sunset                         0\n",
            "dtype: int64\n"
          ]
        }
      ],
      "source": [
        "import pandas as pd\n",
        "\n",
        "# Load the dataset\n",
        "daily_data = pd.read_csv('/daily_data.csv')\n",
        "\n",
        "# Display basic statistics and check for missing values\n",
        "print(daily_data.info())\n",
        "print(daily_data.describe())\n",
        "print(daily_data.isnull().sum())"
      ]
    },
    {
      "cell_type": "markdown",
      "source": [
        "Handling Missing Values:"
      ],
      "metadata": {
        "id": "78so4mdCPQ93"
      }
    },
    {
      "cell_type": "code",
      "source": [
        "import pandas as pd\n",
        "\n",
        "# Load the dataset\n",
        "daily_data = pd.read_csv('/daily_data.csv')\n",
        "\n",
        "# Identify non-numeric columns\n",
        "non_numeric_columns = daily_data.select_dtypes(exclude=['number']).columns\n",
        "\n",
        "# Handle non-numeric columns (example: fill with an appropriate value)\n",
        "daily_data[non_numeric_columns] = daily_data[non_numeric_columns].fillna('Unknown')\n",
        "\n",
        "# Impute missing values with the mean for numeric columns only\n",
        "numeric_data = daily_data.select_dtypes(include=['number'])\n",
        "daily_data[numeric_data.columns] = numeric_data.fillna(numeric_data.mean())\n",
        "\n",
        "# Check for missing values again\n",
        "print(daily_data.isnull().sum())"
      ],
      "metadata": {
        "colab": {
          "base_uri": "https://localhost:8080/"
        },
        "id": "7_dhnaIMPSPW",
        "outputId": "38d7196f-48af-4440-be5c-dd63ab6e549d"
      },
      "execution_count": 17,
      "outputs": [
        {
          "output_type": "stream",
          "name": "stdout",
          "text": [
            "day_id                      0\n",
            "city_id                     0\n",
            "temperature_celsius         0\n",
            "condition_text              0\n",
            "wind_kph                    0\n",
            "wind_degree                 0\n",
            "pressure_mb                 0\n",
            "precip_mm                   0\n",
            "humidity                    0\n",
            "cloud                       0\n",
            "feels_like_celsius          0\n",
            "visibility_km               0\n",
            "uv_index                    0\n",
            "gust_kph                    0\n",
            "air_quality_us-epa-index    0\n",
            "sunrise                     0\n",
            "sunset                      0\n",
            "dtype: int64\n"
          ]
        }
      ]
    },
    {
      "cell_type": "markdown",
      "source": [
        "Feature Engineering:"
      ],
      "metadata": {
        "id": "Z2Bx1ZvOPVws"
      }
    },
    {
      "cell_type": "code",
      "source": [
        "import pandas as pd\n",
        "\n",
        "# Load the dataset\n",
        "daily_data = pd.read_csv('/daily_data.csv')\n",
        "\n",
        "# Verify if 'sales_value' column exists\n",
        "if 'sales_value' in daily_data.columns:\n",
        "    # Create new features based on existing ones\n",
        "    daily_data['total_sales'] = daily_data['sales_value'] + daily_data['sales_volume']\n",
        "    daily_data['sales_per_customer'] = daily_data['sales_value'] / daily_data['customer_count']\n",
        "\n",
        "    # ... rest of your code ...\n",
        "else:\n",
        "    print(\"Error: 'sales_value' column not found in the DataFrame.\")"
      ],
      "metadata": {
        "colab": {
          "base_uri": "https://localhost:8080/"
        },
        "id": "q5Cifs0KPWZt",
        "outputId": "eb4beab2-c905-4d07-945c-015d335b3748"
      },
      "execution_count": 19,
      "outputs": [
        {
          "output_type": "stream",
          "name": "stdout",
          "text": [
            "Error: 'sales_value' column not found in the DataFrame.\n"
          ]
        }
      ]
    },
    {
      "cell_type": "markdown",
      "source": [
        "Model Training and Evaluation:"
      ],
      "metadata": {
        "id": "dX9FxlziPjnv"
      }
    },
    {
      "cell_type": "code",
      "source": [
        "from sklearn.model_selection import train_test_split\n",
        "from sklearn.ensemble import RandomForestClassifier\n",
        "from sklearn.metrics import accuracy_score\n",
        "from sklearn.preprocessing import LabelEncoder # Import LabelEncoder for handling categorical features\n",
        "\n",
        "# Prepare features and target\n",
        "X = daily_data.drop(['day_id', 'condition_text', 'sunrise', 'sunset'], axis=1)\n",
        "y = daily_data['condition_text']\n",
        "\n",
        "# Encode categorical features (if any) and handle missing values\n",
        "label_encoder = LabelEncoder()\n",
        "for col in X.columns:\n",
        "    if X[col].dtype == 'object': # Check if column is of object type (likely categorical)\n",
        "        X[col] = X[col].fillna('Unknown') # Fill missing values in categorical columns\n",
        "        X[col] = label_encoder.fit_transform(X[col]) # Encode categorical features\n",
        "    else: # Handle numeric columns\n",
        "        X[col] = X[col].fillna(X[col].mean()) # Fill missing values in numeric columns with the mean\n",
        "\n",
        "# Check if target variable has missing values and handle them (e.g., drop rows with missing target values)\n",
        "# Align X and y after dropping missing values in 'y'\n",
        "y_notna_index = y.notna() # Get indices of non-missing values in 'y'\n",
        "y = y[y_notna_index] # Keep non-missing values in 'y'\n",
        "X = X[y_notna_index] # Keep corresponding rows in 'X'\n",
        "\n",
        "# Split data into training and testing sets (after handling missing values)\n",
        "X_train, X_test, y_train, y_test = train_test_split(X, y, test_size=0.2, random_state=42)\n",
        "\n",
        "# Train a RandomForest classifier\n",
        "clf = RandomForestClassifier(n_estimators=100, random_state=42)\n",
        "clf.fit(X_train, y_train)\n",
        "\n",
        "# Evaluate model\n",
        "y_pred = clf.predict(X_test)\n",
        "print(f'Accuracy: {accuracy_score(y_test, y_pred)}')"
      ],
      "metadata": {
        "colab": {
          "base_uri": "https://localhost:8080/"
        },
        "id": "KWwrxZlvPlb9",
        "outputId": "3b8b39c1-1710-4531-cb7a-1bcd961526b2"
      },
      "execution_count": 23,
      "outputs": [
        {
          "output_type": "stream",
          "name": "stdout",
          "text": [
            "Accuracy: 0.7395833333333334\n"
          ]
        }
      ]
    },
    {
      "cell_type": "code",
      "source": [
        "# Predict missing values in the original dataset\n",
        "# Use the entire feature set from 'daily_data' to get predictions for all rows\n",
        "all_features = daily_data.drop(['day_id', 'condition_text', 'sunrise', 'sunset'], axis=1)\n",
        "\n",
        "# Apply the same preprocessing steps as done before training\n",
        "label_encoder = LabelEncoder()\n",
        "for col in all_features.columns:\n",
        "    if all_features[col].dtype == 'object':\n",
        "        all_features[col] = all_features[col].fillna('Unknown')\n",
        "        all_features[col] = label_encoder.fit_transform(all_features[col])\n",
        "    else:\n",
        "        all_features[col] = all_features[col].fillna(all_features[col].mean())\n",
        "\n",
        "predictions = clf.predict(all_features)  # Predict on the entire dataset\n",
        "\n",
        "# Prepare submission file\n",
        "submission = pd.DataFrame({\n",
        "    'day_id': daily_data['day_id'],\n",
        "    'condition_text': predictions  # Use predictions for the entire dataset\n",
        "})\n",
        "\n",
        "# Save to CSV\n",
        "submission.to_csv('/submission.csv', index=False)"
      ],
      "metadata": {
        "id": "klAa8JZxU7hV"
      },
      "execution_count": 27,
      "outputs": []
    }
  ]
}